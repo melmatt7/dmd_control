{
 "cells": [
  {
   "cell_type": "code",
   "execution_count": 7,
   "metadata": {},
   "outputs": [],
   "source": [
    "import numpy as np\n",
    "import matplotlib.pyplot as plt\n",
    "import PIL\n",
    "import os\n",
    "os.chdir(\"C:\\\\Users\\\\Impact\\\\Desktop\\\\Melvin\\\\dmd_control\\\\DMDController\")\n",
    "\n",
    "patFile1 = 'DMDController\\\\data\\\\r.bmp'\n",
    "patFile2 = 'DMDController\\\\data\\\\l.bmp'\n",
    "patFile3 = 'DMDController\\\\data\\\\off.bmp'\n",
    "# patFile4 = 'DMDController\\\\data\\\\left.bmp'\n",
    "# patFile5 = 'DMDController\\\\data\\\\right.bmp'\n",
    "# patFile6 = 'DMDController\\\\data\\\\left.bmp'\n",
    "\n",
    "h = np.ones((768, 1024), dtype=bool)\n",
    "h[256:280,940:960] = 0\n",
    "img = PIL.Image.fromarray(h)\n",
    "img.save(patFile1,bits=1,optimize=True)\n",
    "# plt.imsave('DMDController\\\\data\\\\l.bmp', h, cmap='gray')\n",
    "\n",
    "h = np.ones((768, 1024), dtype=bool)\n",
    "img = PIL.Image.fromarray(h)\n",
    "img.save(patFile3,bits=1,optimize=True)\n",
    "\n",
    "h = np.ones((768, 1024), dtype=bool)\n",
    "h[256:280,1000:1020] = 0\n",
    "img = PIL.Image.fromarray(h)\n",
    "img.save(patFile2,bits=1,optimize=True)\n",
    "# plt.imsave('DMDController\\\\data\\\\r.bmp', h, cmap='gray')\n",
    "\n"
   ]
  },
  {
   "cell_type": "code",
   "execution_count": 16,
   "metadata": {},
   "outputs": [
    {
     "name": "stdout",
     "output_type": "stream",
     "text": [
      "DMDController\\data\\off.bmpDMDController\\data\\r.bmp,DMDController\\data\\off.bmp,DMDController\\data\\off.bmp,DMDController\\data\\l.bmp,DMDController\\data\\off.bmp\n"
     ]
    },
    {
     "data": {
      "text/plain": [
       "1"
      ]
     },
     "execution_count": 16,
     "metadata": {},
     "output_type": "execute_result"
    }
   ],
   "source": [
    "\n",
    "\n",
    "callerMode = 'Init';\n",
    "exeFullFile = 'DMDController\\\\bin\\\\Debug\\\\DMDController.exe'\n",
    "os.system('cmd /c ' + exeFullFile + \" \" + callerMode)\n",
    "\n",
    "callerMode = 'mult'\n",
    "exeFullFile = 'DMDController\\\\bin\\\\Debug\\\\DMDController.exe'\n",
    "\n",
    "\n",
    "\n",
    "\n",
    "delineate = ','\n",
    "\n",
    "patFiles = patFile3+delineate+patFile1+delineate+patFile3+delineate+patFile3+delineate+patFile2+delineate+patFile3\n",
    "# patFiles = patFile1+delineate+patFile2+delineate+patFile3+delineate+patFile4+delineate+patFile5+delineate+patFile6\n",
    "print(patFiles)\n",
    "\n",
    "os.system('cmd /c ' + exeFullFile + \" \" + callerMode + \" \" + patFiles)"
   ]
  },
  {
   "cell_type": "code",
   "execution_count": null,
   "metadata": {},
   "outputs": [],
   "source": []
  }
 ],
 "metadata": {
  "interpreter": {
   "hash": "1ff8eb8b188bcf34155c9e65f201a575895d3c8a973d2d254084bd1774e25676"
  },
  "kernelspec": {
   "display_name": "Python 3.9.1 64-bit",
   "language": "python",
   "name": "python3"
  },
  "language_info": {
   "codemirror_mode": {
    "name": "ipython",
    "version": 3
   },
   "file_extension": ".py",
   "mimetype": "text/x-python",
   "name": "python",
   "nbconvert_exporter": "python",
   "pygments_lexer": "ipython3",
   "version": "3.9.1"
  },
  "orig_nbformat": 4
 },
 "nbformat": 4,
 "nbformat_minor": 2
}
