{
 "cells": [
  {
   "cell_type": "code",
   "execution_count": 30,
   "metadata": {},
   "outputs": [],
   "source": [
    "\n",
    "import numpy as np\n",
    "import matplotlib.pyplot as plt\n",
    "import PIL\n",
    "import os\n",
    "import time\n",
    "os.chdir(\"C:\\\\Users\\\\Impact\\\\Desktop\\\\Melvin\\\\dmd_control\\\\DMDController\")\n",
    "\n",
    "t_global = 'DMDController\\\\data\\\\t_global.bmp'\n",
    "b_global = 'DMDController\\\\data\\\\b_global.bmp'\n",
    "\n",
    "h = np.ones((768, 1024), dtype=bool)\n",
    "h[:,800:900] = 0\n",
    "img = PIL.Image.fromarray(h)\n",
    "img.save(b_global,bits=1,optimize=True)\n",
    "\n",
    "h = np.ones((768, 1024), dtype=bool)\n",
    "h[:,900:1000] = 0\n",
    "img = PIL.Image.fromarray(h)\n",
    "img.save(t_global,bits=1,optimize=True)\n",
    "\n",
    "\n",
    "t_quad = 'DMDController\\\\data\\\\t_quad.bmp'\n",
    "b_quad = 'DMDController\\\\data\\\\b_quad.bmp'\n",
    "\n",
    "h = np.ones((192, 1024), dtype=bool)\n",
    "h[:,600:700] = 0\n",
    "img = PIL.Image.fromarray(h)\n",
    "img.save(b_quad,bits=1,optimize=True)\n",
    "\n",
    "h = np.ones((192, 1024), dtype=bool)\n",
    "h[:,900:1000] = 0\n",
    "img = PIL.Image.fromarray(h)\n",
    "img.save(t_quad,bits=1,optimize=True)\n",
    "\n",
    "\n",
    "t_single = 'DMDController\\\\data\\\\t_single.bmp'\n",
    "b_single = 'DMDController\\\\data\\\\b_single.bmp'\n",
    "\n",
    "h = np.ones((47, 1024), dtype=bool)\n",
    "h[:,600:700] = 0\n",
    "img = PIL.Image.fromarray(h)\n",
    "img.save(b_single,bits=1,optimize=True)\n",
    "\n",
    "h = np.ones((47, 1024), dtype=bool)\n",
    "h[:,900:1000] = 0\n",
    "img = PIL.Image.fromarray(h)\n",
    "img.save(t_single,bits=1,optimize=True)\n",
    "\n",
    "\n",
    "t_dual = 'DMDController\\\\data\\\\t_dual.bmp'\n",
    "b_dual = 'DMDController\\\\data\\\\b_dual.bmp'\n",
    "\n",
    "h = np.ones((96, 1024), dtype=bool)\n",
    "h[:,600:700] = 0\n",
    "img = PIL.Image.fromarray(h)\n",
    "img.save(b_dual,bits=1,optimize=True)\n",
    "\n",
    "h = np.ones((96, 1024), dtype=bool)\n",
    "h[:,900:1000] = 0\n",
    "img = PIL.Image.fromarray(h)\n",
    "img.save(t_dual,bits=1,optimize=True)"
   ]
  },
  {
   "cell_type": "code",
   "execution_count": 47,
   "metadata": {},
   "outputs": [
    {
     "data": {
      "text/plain": [
       "0"
      ]
     },
     "execution_count": 47,
     "metadata": {},
     "output_type": "execute_result"
    }
   ],
   "source": [
    "callerMode = 'Init';\n",
    "exeFullFile = 'DMDController\\\\bin\\\\Debug\\\\DMDController.exe'\n",
    "os.system('cmd /c ' + exeFullFile + \" \" + callerMode)"
   ]
  },
  {
   "cell_type": "code",
   "execution_count": 48,
   "metadata": {},
   "outputs": [
    {
     "data": {
      "text/plain": [
       "0"
      ]
     },
     "execution_count": 48,
     "metadata": {},
     "output_type": "execute_result"
    }
   ],
   "source": [
    "callerMode = 'Init';\n",
    "exeFullFile = 'DMDController\\\\bin\\\\Debug\\\\DMDController.exe'\n",
    "os.system('cmd /c ' + exeFullFile + \" \" + callerMode)\n",
    "\n",
    "callerMode = 'Global'\n",
    "exeFullFile = 'DMDController\\\\bin\\\\Debug\\\\DMDController.exe'\n",
    "delineate = ','\n",
    "patFiles = b_global+delineate+t_global\n",
    "os.system('cmd /c ' + exeFullFile + \" \" + callerMode + \" \" + patFiles)\n",
    "\n",
    "time.sleep(5)\n",
    "\n",
    "callerMode = 'Float'\n",
    "exeFullFile = 'DMDController\\\\bin\\\\Debug\\\\DMDController.exe'\n",
    "os.system('cmd /c ' + exeFullFile + \" \" + callerMode)\n",
    "\n",
    "callerMode = 'Quad'\n",
    "exeFullFile = 'DMDController\\\\bin\\\\Debug\\\\DMDController.exe'\n",
    "delineate = ','\n",
    "patFiles = b_quad+delineate+t_quad\n",
    "os.system('cmd /c ' + exeFullFile + \" \" + callerMode + \" \" + patFiles)\n",
    "\n",
    "time.sleep(5)\n",
    "\n",
    "callerMode = 'Float'\n",
    "exeFullFile = 'DMDController\\\\bin\\\\Debug\\\\DMDController.exe'\n",
    "os.system('cmd /c ' + exeFullFile + \" \" + callerMode)\n",
    "\n",
    "callerMode = 'Dual'\n",
    "exeFullFile = 'DMDController\\\\bin\\\\Debug\\\\DMDController.exe'\n",
    "delineate = ','\n",
    "patFiles = b_dual+delineate+t_dual\n",
    "os.system('cmd /c ' + exeFullFile + \" \" + callerMode + \" \" + patFiles)\n",
    "\n",
    "time.sleep(5)\n",
    "\n",
    "callerMode = 'Float'\n",
    "exeFullFile = 'DMDController\\\\bin\\\\Debug\\\\DMDController.exe'\n",
    "os.system('cmd /c ' + exeFullFile + \" \" + callerMode)\n",
    "\n",
    "callerMode = 'Single'\n",
    "delineate = ','\n",
    "patFiles = b_single+delineate+t_single\n",
    "os.system('cmd /c ' + exeFullFile + \" \" + callerMode + \" \" + patFiles)"
   ]
  },
  {
   "cell_type": "code",
   "execution_count": 49,
   "metadata": {},
   "outputs": [
    {
     "name": "stdout",
     "output_type": "stream",
     "text": [
      "DMDController\\data\\t_phased.bmp,DMDController\\data\\b_phased.bmp\n"
     ]
    },
    {
     "data": {
      "text/plain": [
       "0"
      ]
     },
     "execution_count": 49,
     "metadata": {},
     "output_type": "execute_result"
    }
   ],
   "source": [
    "callerMode = 'Float'\n",
    "exeFullFile = 'DMDController\\\\bin\\\\Debug\\\\DMDController.exe'\n",
    "os.system('cmd /c ' + exeFullFile + \" \" + callerMode)\n",
    "\n",
    "time.sleep(1)\n",
    "\n",
    "callerMode = 'Init';\n",
    "exeFullFile = 'DMDController\\\\bin\\\\Debug\\\\DMDController.exe'\n",
    "os.system('cmd /c ' + exeFullFile + \" \" + callerMode)\n",
    "\n",
    "callerMode = 'Phased'\n",
    "exeFullFile = 'DMDController\\\\bin\\\\Debug\\\\DMDController.exe'\n",
    "\n",
    "t_phased = 'DMDController\\\\data\\\\t_phased.bmp'\n",
    "b_phased = 'DMDController\\\\data\\\\b_phased.bmp'\n",
    "\n",
    "h = np.ones((47, 1024), dtype=bool)\n",
    "h[:,700:800] = 0\n",
    "img = PIL.Image.fromarray(h)\n",
    "img.save(b_phased,bits=1,optimize=True)\n",
    "\n",
    "h = np.ones((47, 1024), dtype=bool)\n",
    "h[:, 900:1000] = 0\n",
    "img = PIL.Image.fromarray(h)\n",
    "img.save(t_phased,bits=1,optimize=True)\n",
    "\n",
    "delineate = ','\n",
    "# patFiles = t_phased+delineate+b_phased+delineate+t_phased+delineate+b_phased\n",
    "patFiles = t_phased+delineate+b_phased\n",
    "print(patFiles)\n",
    "\n",
    "os.system('cmd /c ' + exeFullFile + \" \" + callerMode + \" \" + patFiles)"
   ]
  },
  {
   "cell_type": "code",
   "execution_count": 51,
   "metadata": {},
   "outputs": [],
   "source": [
    "callerMode = 'Float'\n",
    "exeFullFile = 'DMDController\\\\bin\\\\Debug\\\\DMDController.exe'\n",
    "os.system('cmd /c ' + exeFullFile + \" \" + callerMode)\n",
    "\n",
    "time.sleep(1)"
   ]
  },
  {
   "cell_type": "code",
   "execution_count": 50,
   "metadata": {},
   "outputs": [
    {
     "name": "stdout",
     "output_type": "stream",
     "text": [
      "DMDController\\data\\b_single.bmp,DMDController\\data\\t_single.bmp\n"
     ]
    },
    {
     "data": {
      "text/plain": [
       "0"
      ]
     },
     "execution_count": 50,
     "metadata": {},
     "output_type": "execute_result"
    }
   ],
   "source": [
    "callerMode = 'Float'\n",
    "exeFullFile = 'DMDController\\\\bin\\\\Debug\\\\DMDController.exe'\n",
    "os.system('cmd /c ' + exeFullFile + \" \" + callerMode)\n",
    "\n",
    "time.sleep(1)\n",
    "callerMode = 'Init';\n",
    "exeFullFile = 'DMDController\\\\bin\\\\Debug\\\\DMDController.exe'\n",
    "os.system('cmd /c ' + exeFullFile + \" \" + callerMode)\n",
    "\n",
    "callerMode = 'Single'\n",
    "exeFullFile = 'DMDController\\\\bin\\\\Debug\\\\DMDController.exe'\n",
    "\n",
    "t_single = 'DMDController\\\\data\\\\t_single.bmp'\n",
    "b_single = 'DMDController\\\\data\\\\b_single.bmp'\n",
    "\n",
    "h = np.ones((47, 1024), dtype=bool)\n",
    "h[:,700:800] = 0\n",
    "img = PIL.Image.fromarray(h)\n",
    "img.save(b_single,bits=1,optimize=True)\n",
    "\n",
    "h = np.ones((47, 1024), dtype=bool)\n",
    "h[:,900:1000] = 0\n",
    "img = PIL.Image.fromarray(h)\n",
    "img.save(t_single,bits=1,optimize=True)\n",
    "\n",
    "delineate = ','\n",
    "patFiles = b_single+delineate+t_single\n",
    "print(patFiles)\n",
    "\n",
    "os.system('cmd /c ' + exeFullFile + \" \" + callerMode + \" \" + patFiles)"
   ]
  },
  {
   "cell_type": "code",
   "execution_count": null,
   "metadata": {},
   "outputs": [
    {
     "name": "stdout",
     "output_type": "stream",
     "text": [
      "DMDController\\data\\t_dual.bmp,DMDController\\data\\b_dual.bmp\n"
     ]
    },
    {
     "data": {
      "text/plain": [
       "0"
      ]
     },
     "execution_count": 96,
     "metadata": {},
     "output_type": "execute_result"
    }
   ],
   "source": [
    "callerMode = 'Float'\n",
    "exeFullFile = 'DMDController\\\\bin\\\\Debug\\\\DMDController.exe'\n",
    "os.system('cmd /c ' + exeFullFile + \" \" + callerMode)\n",
    "\n",
    "time.sleep(1)\n",
    "\n",
    "callerMode = 'Dual'\n",
    "exeFullFile = 'DMDController\\\\bin\\\\Debug\\\\DMDController.exe'\n",
    "\n",
    "t_dual = 'DMDController\\\\data\\\\t_dual.bmp'\n",
    "b_dual = 'DMDController\\\\data\\\\b_dual.bmp'\n",
    "\n",
    "h = np.ones((96, 1024), dtype=bool)\n",
    "h[:,600:700] = 0\n",
    "img = PIL.Image.fromarray(h)\n",
    "img.save(b_dual,bits=1,optimize=True)\n",
    "\n",
    "h = np.ones((96, 1024), dtype=bool)\n",
    "h[:,900:1000] = 0\n",
    "img = PIL.Image.fromarray(h)\n",
    "img.save(t_dual,bits=1,optimize=True)\n",
    "\n",
    "delineate = ','\n",
    "patFiles = t_dual+delineate+b_dual\n",
    "print(patFiles)\n",
    "\n",
    "os.system('cmd /c ' + exeFullFile + \" \" + callerMode + \" \" + patFiles)"
   ]
  },
  {
   "cell_type": "code",
   "execution_count": 9,
   "metadata": {},
   "outputs": [
    {
     "name": "stdout",
     "output_type": "stream",
     "text": [
      "DMDController\\data\\b_quad.bmp,DMDController\\data\\t_quad.bmp\n"
     ]
    },
    {
     "data": {
      "text/plain": [
       "0"
      ]
     },
     "execution_count": 9,
     "metadata": {},
     "output_type": "execute_result"
    }
   ],
   "source": [
    "callerMode = 'Float'\n",
    "exeFullFile = 'DMDController\\\\bin\\\\Debug\\\\DMDController.exe'\n",
    "os.system('cmd /c ' + exeFullFile + \" \" + callerMode)\n",
    "\n",
    "time.sleep(1)\n",
    "\n",
    "callerMode = 'Quad'\n",
    "exeFullFile = 'DMDController\\\\bin\\\\Debug\\\\DMDController.exe'\n",
    "\n",
    "t_quad = 'DMDController\\\\data\\\\t_quad.bmp'\n",
    "b_quad = 'DMDController\\\\data\\\\b_quad.bmp'\n",
    "\n",
    "h = np.ones((192, 1024), dtype=bool)\n",
    "h[:,600:700] = 0\n",
    "img = PIL.Image.fromarray(h)\n",
    "img.save(b_quad,bits=1,optimize=True)\n",
    "\n",
    "h = np.ones((192, 1024), dtype=bool)\n",
    "h[:,900:1000] = 0\n",
    "img = PIL.Image.fromarray(h)\n",
    "img.save(t_quad,bits=1,optimize=True)\n",
    "\n",
    "delineate = ','\n",
    "patFiles = b_quad+delineate+t_quad\n",
    "print(patFiles)\n",
    "\n",
    "os.system('cmd /c ' + exeFullFile + \" \" + callerMode + \" \" + patFiles)"
   ]
  },
  {
   "cell_type": "code",
   "execution_count": 11,
   "metadata": {},
   "outputs": [
    {
     "name": "stdout",
     "output_type": "stream",
     "text": [
      "DMDController\\data\\b_global.bmp,DMDController\\data\\t_global.bmp\n"
     ]
    },
    {
     "data": {
      "text/plain": [
       "0"
      ]
     },
     "execution_count": 11,
     "metadata": {},
     "output_type": "execute_result"
    }
   ],
   "source": [
    "callerMode = 'Float'\n",
    "exeFullFile = 'DMDController\\\\bin\\\\Debug\\\\DMDController.exe'\n",
    "os.system('cmd /c ' + exeFullFile + \" \" + callerMode)\n",
    "\n",
    "time.sleep(1)\n",
    "\n",
    "callerMode = 'Global'\n",
    "exeFullFile = 'DMDController\\\\bin\\\\Debug\\\\DMDController.exe'\n",
    "\n",
    "t_global = 'DMDController\\\\data\\\\t_global.bmp'\n",
    "b_global = 'DMDController\\\\data\\\\b_global.bmp'\n",
    "\n",
    "h = np.ones((768, 1024), dtype=bool)\n",
    "h[:,700:800] = 0\n",
    "img = PIL.Image.fromarray(h)\n",
    "img.save(b_global,bits=1,optimize=True)\n",
    "\n",
    "h = np.ones((768, 1024), dtype=bool)\n",
    "h[:,900:1000] = 0\n",
    "img = PIL.Image.fromarray(h)\n",
    "img.save(t_global,bits=1,optimize=True)\n",
    "\n",
    "delineate = ','\n",
    "patFiles = b_global+delineate+t_global\n",
    "# patFiles = on+delineate+on\n",
    "print(patFiles)\n",
    "\n",
    "os.system('cmd /c ' + exeFullFile + \" \" + callerMode + \" \" + patFiles)"
   ]
  },
  {
   "cell_type": "code",
   "execution_count": null,
   "metadata": {},
   "outputs": [],
   "source": []
  }
 ],
 "metadata": {
  "interpreter": {
   "hash": "d0882e35b7925b00c41912ba0d48a05258266c3f004e8b59bbe08bb448485086"
  },
  "kernelspec": {
   "display_name": "Python 3.9.1 64-bit",
   "language": "python",
   "name": "python3"
  },
  "language_info": {
   "codemirror_mode": {
    "name": "ipython",
    "version": 3
   },
   "file_extension": ".py",
   "mimetype": "text/x-python",
   "name": "python",
   "nbconvert_exporter": "python",
   "pygments_lexer": "ipython3",
   "version": "3.9.1"
  },
  "orig_nbformat": 4
 },
 "nbformat": 4,
 "nbformat_minor": 2
}
