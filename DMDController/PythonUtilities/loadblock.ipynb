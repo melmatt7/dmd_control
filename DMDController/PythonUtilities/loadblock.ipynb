{
 "cells": [
  {
   "cell_type": "code",
   "execution_count": 13,
   "metadata": {},
   "outputs": [],
   "source": [
    "import numpy as np\n",
    "import matplotlib.pyplot as plt\n",
    "import PIL\n",
    "import os\n",
    "os.chdir(\"C:\\\\Users\\\\Impact\\\\Desktop\\\\Melvin\\\\dmd_control\\\\DMDController\")\n",
    "\n",
    "t = 'DMDController\\\\data\\\\t.bmp'\n",
    "b = 'DMDController\\\\data\\\\b.bmp'\n",
    "off = 'DMDController\\\\data\\\\off.bmp'\n",
    "on = 'DMDController\\\\data\\\\left.bmp'\n",
    "\n",
    "######## T B #########\n",
    "h = np.ones((768, 1024), dtype=bool)\n",
    "h[336:384,700:800] = 0\n",
    "img = PIL.Image.fromarray(h)\n",
    "img.save(b,bits=1,optimize=True)\n",
    "\n",
    "h = np.ones((768, 1024), dtype=bool)\n",
    "h[144:192,900:1000] = 0\n",
    "img = PIL.Image.fromarray(h)\n",
    "img.save(t,bits=1,optimize=True)"
   ]
  },
  {
   "cell_type": "code",
   "execution_count": 16,
   "metadata": {},
   "outputs": [
    {
     "name": "stdout",
     "output_type": "stream",
     "text": [
      "DMDController\\data\\left.bmp,DMDController\\data\\left.bmp\n"
     ]
    },
    {
     "data": {
      "text/plain": [
       "0"
      ]
     },
     "execution_count": 16,
     "metadata": {},
     "output_type": "execute_result"
    }
   ],
   "source": [
    "callerMode = 'Init';\n",
    "exeFullFile = 'DMDController\\\\bin\\\\Debug\\\\DMDController.exe'\n",
    "os.system('cmd /c ' + exeFullFile + \" \" + callerMode)\n",
    "\n",
    "callerMode = 'MultiLoadBlock'\n",
    "exeFullFile = 'DMDController\\\\bin\\\\Debug\\\\DMDController.exe'\n",
    "\n",
    "delineate = ','\n",
    "\n",
    "# patFiles = right+delineate+left\n",
    "# patFiles = kirby+delineate+off\n",
    "# patFiles = r+delineate+l\n",
    "# patFiles = t+delineate+b\n",
    "# patFiles = off\n",
    "patFiles = on+delineate+on\n",
    "print(patFiles)\n",
    "\n",
    "os.system('cmd /c ' + exeFullFile + \" \" + callerMode + \" \" + patFiles)"
   ]
  },
  {
   "cell_type": "code",
   "execution_count": null,
   "metadata": {},
   "outputs": [],
   "source": []
  }
 ],
 "metadata": {
  "interpreter": {
   "hash": "1ff8eb8b188bcf34155c9e65f201a575895d3c8a973d2d254084bd1774e25676"
  },
  "kernelspec": {
   "display_name": "Python 3.9.1 64-bit",
   "language": "python",
   "name": "python3"
  },
  "language_info": {
   "codemirror_mode": {
    "name": "ipython",
    "version": 3
   },
   "file_extension": ".py",
   "mimetype": "text/x-python",
   "name": "python",
   "nbconvert_exporter": "python",
   "pygments_lexer": "ipython3",
   "version": "3.9.1"
  },
  "orig_nbformat": 4
 },
 "nbformat": 4,
 "nbformat_minor": 2
}
