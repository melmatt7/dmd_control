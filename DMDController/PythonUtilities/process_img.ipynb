{
 "cells": [
  {
   "cell_type": "code",
   "execution_count": 41,
   "metadata": {},
   "outputs": [
    {
     "data": {
      "text/plain": [
       "[<matplotlib.lines.Line2D at 0x7f51d9415c10>]"
      ]
     },
     "execution_count": 41,
     "metadata": {},
     "output_type": "execute_result"
    },
    {
     "data": {
      "image/png": "[encoded data removed]",
      "text/plain": [
       "<Figure size 432x288 with 2 Axes>"
      ]
     },
     "metadata": {
      "needs_background": "light"
     },
     "output_type": "display_data"
    }
   ],
   "source": [
    "import os\n",
    "import numpy as np\n",
    "import matplotlib.pyplot as plt\n",
    "import matplotlib.cm as cm\n",
    "from PIL import Image\n",
    "import pylab as plt\n",
    "\n",
    "# directory = \"../../../camera_out/report/\"\n",
    "# directory=\"C:\\\\Users\\\\Impact\\\\Desktop\\\\Melvin\\\\camera_out\\\\report\\\\\"\n",
    "# curr_dir = \"C:\\\\Users\\\\Impact\\\\Desktop\\\\Melvin\\\\dmd_control\\\\DMDController\\\\PythonUtilities\\\\\"\n",
    "# off_directory=\"C:\\\\Users\\\\Impact\\\\Desktop\\\\Melvin\\\\camera_out\\\\off\\\\\"\n",
    "# off = Image.open(off_directory+\"off.png\")\n",
    "# off1 = np.asarray(off)\n",
    "# # print(off1.max())\n",
    "# img_norm2=off1/off1.max()\n",
    "# index_y2, index_x2=np.indices(off1.shape)\n",
    "# centroid_x2=np.average(index_x2, weights=img_norm2**5)\n",
    "# centroid_y2=np.average(index_y2, weights=img_norm2**5)\n",
    "\n",
    "from matplotlib.colors import LinearSegmentedColormap\n",
    "\n",
    "\n",
    "greiner = { 'red': ((0., 1, 1,), (.2, 0, 0), (.48, 0, 0)),\n",
    "            'green': ((0., 1, 1), (.2, 0, 0), (.3, 0, 0)),\n",
    "            'blue':  ((0., 1, 1), (.2, .5, .5), (.288, 1, 1)) }\n",
    "greiner = LinearSegmentedColormap('greiner', greiner, plt.rcParams[\"image.lut\"])\n",
    "\n",
    "thesis_cm = greiner\n",
    "\n",
    "from matplotlib import pyplot as plt\n",
    "import numpy as np\n",
    "\n",
    "# create dummy invisible image\n",
    "# (use the colormap you want to have on the colorbar)\n",
    "img = plt.imshow(np.array([[0,1]]), cmap=thesis_cm)\n",
    "img.set_visible(False)\n",
    "\n",
    "plt.colorbar(orientation=\"vertical\")\n",
    "\n",
    "# add any other things you want to the figure.\n",
    "plt.plot(0.4*np.random.rand(30))"
   ]
  },
  {
   "cell_type": "code",
   "execution_count": null,
   "metadata": {},
   "outputs": [],
   "source": []
  }
 ],
 "metadata": {
  "interpreter": {
   "hash": "916dbcbb3f70747c44a77c7bcd40155683ae19c65e1c03b4aa3499c5328201f1"
  },
  "kernelspec": {
   "display_name": "Python 3.8.10 64-bit",
   "language": "python",
   "name": "python3"
  },
  "language_info": {
   "name": "python",
   "version": "3.8.10"
  },
  "orig_nbformat": 4
 },
 "nbformat": 4,
 "nbformat_minor": 2
}
